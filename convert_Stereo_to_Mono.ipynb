{
 "cells": [
  {
   "cell_type": "code",
   "execution_count": 1,
   "id": "sweet-needle",
   "metadata": {},
   "outputs": [],
   "source": [
    "from pydub import AudioSegment\n",
    "from pathlib import Path"
   ]
  },
  {
   "cell_type": "markdown",
   "id": "nuclear-crystal",
   "metadata": {},
   "source": [
    "### Create paths"
   ]
  },
  {
   "cell_type": "code",
   "execution_count": 2,
   "id": "crucial-groove",
   "metadata": {},
   "outputs": [],
   "source": [
    "pwd = Path('.')"
   ]
  },
  {
   "cell_type": "code",
   "execution_count": 3,
   "id": "sunset-blast",
   "metadata": {},
   "outputs": [],
   "source": [
    "sounds = pwd / 'sounds'"
   ]
  },
  {
   "cell_type": "markdown",
   "id": "comprehensive-mobile",
   "metadata": {},
   "source": [
    "Create list of paths to sounds files"
   ]
  },
  {
   "cell_type": "code",
   "execution_count": 4,
   "id": "committed-midwest",
   "metadata": {},
   "outputs": [
    {
     "data": {
      "text/plain": [
       "['/home/andras/Documents/projects/audioProject/sounds/fa.wav',\n",
       " '/home/andras/Documents/projects/audioProject/sounds/szo.wav',\n",
       " '/home/andras/Documents/projects/audioProject/sounds/combined.wav',\n",
       " '/home/andras/Documents/projects/audioProject/sounds/re.wav',\n",
       " '/home/andras/Documents/projects/audioProject/sounds/do.wav',\n",
       " '/home/andras/Documents/projects/audioProject/sounds/notes.wav',\n",
       " '/home/andras/Documents/projects/audioProject/sounds/doo.wav',\n",
       " '/home/andras/Documents/projects/audioProject/sounds/la.wav',\n",
       " '/home/andras/Documents/projects/audioProject/sounds/mi.wav',\n",
       " '/home/andras/Documents/projects/audioProject/sounds/ti.wav',\n",
       " '/home/andras/Documents/projects/audioProject/sounds/oktav.wav']"
      ]
     },
     "execution_count": 4,
     "metadata": {},
     "output_type": "execute_result"
    }
   ],
   "source": [
    "paths = []\n",
    "for audio in sounds.iterdir():\n",
    "    if audio.match('*.wav'):\n",
    "        paths.append(str(audio.resolve()))\n",
    "paths"
   ]
  },
  {
   "cell_type": "markdown",
   "id": "postal-python",
   "metadata": {},
   "source": [
    "### Transform Stereo to Mono files"
   ]
  },
  {
   "cell_type": "code",
   "execution_count": 5,
   "id": "sharing-weight",
   "metadata": {},
   "outputs": [],
   "source": [
    "def create_mono(path):\n",
    "    sound = AudioSegment.from_wav(path)\n",
    "    sound = sound.set_channels(1)\n",
    "    sound.export(path, format=\"wav\")"
   ]
  },
  {
   "cell_type": "code",
   "execution_count": 6,
   "id": "surface-shanghai",
   "metadata": {},
   "outputs": [],
   "source": [
    "for path in paths:\n",
    "    create_mono(path)"
   ]
  }
 ],
 "metadata": {
  "kernelspec": {
   "display_name": "Python 3",
   "language": "python",
   "name": "python3"
  },
  "language_info": {
   "codemirror_mode": {
    "name": "ipython",
    "version": 3
   },
   "file_extension": ".py",
   "mimetype": "text/x-python",
   "name": "python",
   "nbconvert_exporter": "python",
   "pygments_lexer": "ipython3",
   "version": "3.8.5"
  }
 },
 "nbformat": 4,
 "nbformat_minor": 5
}
